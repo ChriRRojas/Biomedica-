{
  "nbformat": 4,
  "nbformat_minor": 0,
  "metadata": {
    "colab": {
      "provenance": [],
      "authorship_tag": "ABX9TyOREdqxGdrRRDVIiBbzjty0",
      "include_colab_link": true
    },
    "kernelspec": {
      "name": "python3",
      "display_name": "Python 3"
    },
    "language_info": {
      "name": "python"
    }
  },
  "cells": [
    {
      "cell_type": "markdown",
      "metadata": {
        "id": "view-in-github",
        "colab_type": "text"
      },
      "source": [
        "<a href=\"https://colab.research.google.com/github/ChriRRojas/Biomedica-/blob/main/Chambitas_Moi.ipynb\" target=\"_parent\"><img src=\"https://colab.research.google.com/assets/colab-badge.svg\" alt=\"Open In Colab\"/></a>"
      ]
    },
    {
      "cell_type": "markdown",
      "source": [
        "># **Import Packages**   🧮"
      ],
      "metadata": {
        "id": "vlLT3tnkzaGE"
      }
    },
    {
      "cell_type": "code",
      "source": [
        "!pip install cimcb\n"
      ],
      "metadata": {
        "collapsed": true,
        "colab": {
          "base_uri": "https://localhost:8080/"
        },
        "id": "YhATm1hAyjg8",
        "outputId": "b04fe3ae-8670-4d25-e0e1-f842e60dd9c4"
      },
      "execution_count": 1,
      "outputs": [
        {
          "output_type": "stream",
          "name": "stdout",
          "text": [
            "Requirement already satisfied: cimcb in /usr/local/lib/python3.10/dist-packages (1.1.0)\n",
            "Requirement already satisfied: bokeh>=1.0.0 in /usr/local/lib/python3.10/dist-packages (from cimcb) (2.4.3)\n",
            "Requirement already satisfied: keras in /usr/local/lib/python3.10/dist-packages (from cimcb) (3.5.0)\n",
            "Requirement already satisfied: numpy>=1.12 in /usr/local/lib/python3.10/dist-packages (from cimcb) (1.25.2)\n",
            "Requirement already satisfied: pandas in /usr/local/lib/python3.10/dist-packages (from cimcb) (2.2.2)\n",
            "Requirement already satisfied: scipy in /usr/local/lib/python3.10/dist-packages (from cimcb) (1.9.3)\n",
            "Requirement already satisfied: scikit-learn in /usr/local/lib/python3.10/dist-packages (from cimcb) (1.5.2)\n",
            "Requirement already satisfied: statsmodels in /usr/local/lib/python3.10/dist-packages (from cimcb) (0.14.4)\n",
            "Requirement already satisfied: tensorflow in /usr/local/lib/python3.10/dist-packages (from cimcb) (2.17.1)\n",
            "Requirement already satisfied: tqdm in /usr/local/lib/python3.10/dist-packages (from cimcb) (4.66.6)\n",
            "Requirement already satisfied: xlrd in /usr/local/lib/python3.10/dist-packages (from cimcb) (2.0.1)\n",
            "Requirement already satisfied: joblib in /usr/local/lib/python3.10/dist-packages (from cimcb) (1.4.2)\n",
            "Requirement already satisfied: Jinja2>=2.9 in /usr/local/lib/python3.10/dist-packages (from bokeh>=1.0.0->cimcb) (3.1.4)\n",
            "Requirement already satisfied: packaging>=16.8 in /usr/local/lib/python3.10/dist-packages (from bokeh>=1.0.0->cimcb) (24.2)\n",
            "Requirement already satisfied: pillow>=7.1.0 in /usr/local/lib/python3.10/dist-packages (from bokeh>=1.0.0->cimcb) (11.0.0)\n",
            "Requirement already satisfied: PyYAML>=3.10 in /usr/local/lib/python3.10/dist-packages (from bokeh>=1.0.0->cimcb) (6.0.2)\n",
            "Requirement already satisfied: tornado>=5.1 in /usr/local/lib/python3.10/dist-packages (from bokeh>=1.0.0->cimcb) (6.3.3)\n",
            "Requirement already satisfied: typing-extensions>=3.10.0 in /usr/local/lib/python3.10/dist-packages (from bokeh>=1.0.0->cimcb) (4.12.2)\n",
            "Requirement already satisfied: absl-py in /usr/local/lib/python3.10/dist-packages (from keras->cimcb) (1.4.0)\n",
            "Requirement already satisfied: rich in /usr/local/lib/python3.10/dist-packages (from keras->cimcb) (13.9.4)\n",
            "Requirement already satisfied: namex in /usr/local/lib/python3.10/dist-packages (from keras->cimcb) (0.0.8)\n",
            "Requirement already satisfied: h5py in /usr/local/lib/python3.10/dist-packages (from keras->cimcb) (3.12.1)\n",
            "Requirement already satisfied: optree in /usr/local/lib/python3.10/dist-packages (from keras->cimcb) (0.13.1)\n",
            "Requirement already satisfied: ml-dtypes in /usr/local/lib/python3.10/dist-packages (from keras->cimcb) (0.4.1)\n",
            "Requirement already satisfied: python-dateutil>=2.8.2 in /usr/local/lib/python3.10/dist-packages (from pandas->cimcb) (2.8.2)\n",
            "Requirement already satisfied: pytz>=2020.1 in /usr/local/lib/python3.10/dist-packages (from pandas->cimcb) (2024.2)\n",
            "Requirement already satisfied: tzdata>=2022.7 in /usr/local/lib/python3.10/dist-packages (from pandas->cimcb) (2024.2)\n",
            "Requirement already satisfied: threadpoolctl>=3.1.0 in /usr/local/lib/python3.10/dist-packages (from scikit-learn->cimcb) (3.5.0)\n",
            "Requirement already satisfied: patsy>=0.5.6 in /usr/local/lib/python3.10/dist-packages (from statsmodels->cimcb) (1.0.1)\n",
            "Requirement already satisfied: astunparse>=1.6.0 in /usr/local/lib/python3.10/dist-packages (from tensorflow->cimcb) (1.6.3)\n",
            "Requirement already satisfied: flatbuffers>=24.3.25 in /usr/local/lib/python3.10/dist-packages (from tensorflow->cimcb) (24.3.25)\n",
            "Requirement already satisfied: gast!=0.5.0,!=0.5.1,!=0.5.2,>=0.2.1 in /usr/local/lib/python3.10/dist-packages (from tensorflow->cimcb) (0.6.0)\n",
            "Requirement already satisfied: google-pasta>=0.1.1 in /usr/local/lib/python3.10/dist-packages (from tensorflow->cimcb) (0.2.0)\n",
            "Requirement already satisfied: libclang>=13.0.0 in /usr/local/lib/python3.10/dist-packages (from tensorflow->cimcb) (18.1.1)\n",
            "Requirement already satisfied: opt-einsum>=2.3.2 in /usr/local/lib/python3.10/dist-packages (from tensorflow->cimcb) (3.4.0)\n",
            "Requirement already satisfied: protobuf!=4.21.0,!=4.21.1,!=4.21.2,!=4.21.3,!=4.21.4,!=4.21.5,<5.0.0dev,>=3.20.3 in /usr/local/lib/python3.10/dist-packages (from tensorflow->cimcb) (4.25.5)\n",
            "Requirement already satisfied: requests<3,>=2.21.0 in /usr/local/lib/python3.10/dist-packages (from tensorflow->cimcb) (2.32.3)\n",
            "Requirement already satisfied: setuptools in /usr/local/lib/python3.10/dist-packages (from tensorflow->cimcb) (75.1.0)\n",
            "Requirement already satisfied: six>=1.12.0 in /usr/local/lib/python3.10/dist-packages (from tensorflow->cimcb) (1.16.0)\n",
            "Requirement already satisfied: termcolor>=1.1.0 in /usr/local/lib/python3.10/dist-packages (from tensorflow->cimcb) (2.5.0)\n",
            "Requirement already satisfied: wrapt>=1.11.0 in /usr/local/lib/python3.10/dist-packages (from tensorflow->cimcb) (1.16.0)\n",
            "Requirement already satisfied: grpcio<2.0,>=1.24.3 in /usr/local/lib/python3.10/dist-packages (from tensorflow->cimcb) (1.68.0)\n",
            "Requirement already satisfied: tensorboard<2.18,>=2.17 in /usr/local/lib/python3.10/dist-packages (from tensorflow->cimcb) (2.17.1)\n",
            "Requirement already satisfied: tensorflow-io-gcs-filesystem>=0.23.1 in /usr/local/lib/python3.10/dist-packages (from tensorflow->cimcb) (0.37.1)\n",
            "Requirement already satisfied: wheel<1.0,>=0.23.0 in /usr/local/lib/python3.10/dist-packages (from astunparse>=1.6.0->tensorflow->cimcb) (0.45.0)\n",
            "Requirement already satisfied: MarkupSafe>=2.0 in /usr/local/lib/python3.10/dist-packages (from Jinja2>=2.9->bokeh>=1.0.0->cimcb) (3.0.2)\n",
            "Requirement already satisfied: charset-normalizer<4,>=2 in /usr/local/lib/python3.10/dist-packages (from requests<3,>=2.21.0->tensorflow->cimcb) (3.4.0)\n",
            "Requirement already satisfied: idna<4,>=2.5 in /usr/local/lib/python3.10/dist-packages (from requests<3,>=2.21.0->tensorflow->cimcb) (3.10)\n",
            "Requirement already satisfied: urllib3<3,>=1.21.1 in /usr/local/lib/python3.10/dist-packages (from requests<3,>=2.21.0->tensorflow->cimcb) (2.2.3)\n",
            "Requirement already satisfied: certifi>=2017.4.17 in /usr/local/lib/python3.10/dist-packages (from requests<3,>=2.21.0->tensorflow->cimcb) (2024.8.30)\n",
            "Requirement already satisfied: markdown>=2.6.8 in /usr/local/lib/python3.10/dist-packages (from tensorboard<2.18,>=2.17->tensorflow->cimcb) (3.7)\n",
            "Requirement already satisfied: tensorboard-data-server<0.8.0,>=0.7.0 in /usr/local/lib/python3.10/dist-packages (from tensorboard<2.18,>=2.17->tensorflow->cimcb) (0.7.2)\n",
            "Requirement already satisfied: werkzeug>=1.0.1 in /usr/local/lib/python3.10/dist-packages (from tensorboard<2.18,>=2.17->tensorflow->cimcb) (3.1.3)\n",
            "Requirement already satisfied: markdown-it-py>=2.2.0 in /usr/local/lib/python3.10/dist-packages (from rich->keras->cimcb) (3.0.0)\n",
            "Requirement already satisfied: pygments<3.0.0,>=2.13.0 in /usr/local/lib/python3.10/dist-packages (from rich->keras->cimcb) (2.18.0)\n",
            "Requirement already satisfied: mdurl~=0.1 in /usr/local/lib/python3.10/dist-packages (from markdown-it-py>=2.2.0->rich->keras->cimcb) (0.1.2)\n"
          ]
        }
      ]
    },
    {
      "cell_type": "code",
      "source": [
        "!pip uninstall -y scipy\n"
      ],
      "metadata": {
        "colab": {
          "base_uri": "https://localhost:8080/"
        },
        "collapsed": true,
        "id": "6WiT37A1y09M",
        "outputId": "ab27f2fa-dab9-488f-a043-f53da4526658"
      },
      "execution_count": 2,
      "outputs": [
        {
          "output_type": "stream",
          "name": "stdout",
          "text": [
            "Found existing installation: scipy 1.9.3\n",
            "Uninstalling scipy-1.9.3:\n",
            "  Successfully uninstalled scipy-1.9.3\n"
          ]
        }
      ]
    },
    {
      "cell_type": "code",
      "source": [
        "!pip install scipy==1.9.3\n"
      ],
      "metadata": {
        "colab": {
          "base_uri": "https://localhost:8080/"
        },
        "collapsed": true,
        "id": "EEa3C7fNy4EU",
        "outputId": "e3f31a06-25e2-437f-eb9e-07458b458a07"
      },
      "execution_count": 4,
      "outputs": [
        {
          "output_type": "stream",
          "name": "stdout",
          "text": [
            "Requirement already satisfied: scipy==1.9.3 in /usr/local/lib/python3.10/dist-packages (1.9.3)\n",
            "Requirement already satisfied: numpy<1.26.0,>=1.18.5 in /usr/local/lib/python3.10/dist-packages (from scipy==1.9.3) (1.25.2)\n"
          ]
        }
      ]
    },
    {
      "cell_type": "code",
      "source": [
        "!pip install cimcb\n",
        "\n"
      ],
      "metadata": {
        "colab": {
          "base_uri": "https://localhost:8080/"
        },
        "collapsed": true,
        "id": "gT3sy0dVzE1I",
        "outputId": "7cd22f2e-4dac-4e73-efb3-fa57af361cb6"
      },
      "execution_count": 6,
      "outputs": [
        {
          "output_type": "stream",
          "name": "stdout",
          "text": [
            "Requirement already satisfied: cimcb in /usr/local/lib/python3.10/dist-packages (1.1.0)\n",
            "Requirement already satisfied: bokeh>=1.0.0 in /usr/local/lib/python3.10/dist-packages (from cimcb) (2.4.3)\n",
            "Requirement already satisfied: keras in /usr/local/lib/python3.10/dist-packages (from cimcb) (3.5.0)\n",
            "Requirement already satisfied: numpy>=1.12 in /usr/local/lib/python3.10/dist-packages (from cimcb) (1.25.2)\n",
            "Requirement already satisfied: pandas in /usr/local/lib/python3.10/dist-packages (from cimcb) (2.2.2)\n",
            "Requirement already satisfied: scipy in /usr/local/lib/python3.10/dist-packages (from cimcb) (1.9.3)\n",
            "Requirement already satisfied: scikit-learn in /usr/local/lib/python3.10/dist-packages (from cimcb) (1.5.2)\n",
            "Requirement already satisfied: statsmodels in /usr/local/lib/python3.10/dist-packages (from cimcb) (0.14.4)\n",
            "Requirement already satisfied: tensorflow in /usr/local/lib/python3.10/dist-packages (from cimcb) (2.17.1)\n",
            "Requirement already satisfied: tqdm in /usr/local/lib/python3.10/dist-packages (from cimcb) (4.66.6)\n",
            "Requirement already satisfied: xlrd in /usr/local/lib/python3.10/dist-packages (from cimcb) (2.0.1)\n",
            "Requirement already satisfied: joblib in /usr/local/lib/python3.10/dist-packages (from cimcb) (1.4.2)\n",
            "Requirement already satisfied: Jinja2>=2.9 in /usr/local/lib/python3.10/dist-packages (from bokeh>=1.0.0->cimcb) (3.1.4)\n",
            "Requirement already satisfied: packaging>=16.8 in /usr/local/lib/python3.10/dist-packages (from bokeh>=1.0.0->cimcb) (24.2)\n",
            "Requirement already satisfied: pillow>=7.1.0 in /usr/local/lib/python3.10/dist-packages (from bokeh>=1.0.0->cimcb) (11.0.0)\n",
            "Requirement already satisfied: PyYAML>=3.10 in /usr/local/lib/python3.10/dist-packages (from bokeh>=1.0.0->cimcb) (6.0.2)\n",
            "Requirement already satisfied: tornado>=5.1 in /usr/local/lib/python3.10/dist-packages (from bokeh>=1.0.0->cimcb) (6.3.3)\n",
            "Requirement already satisfied: typing-extensions>=3.10.0 in /usr/local/lib/python3.10/dist-packages (from bokeh>=1.0.0->cimcb) (4.12.2)\n",
            "Requirement already satisfied: absl-py in /usr/local/lib/python3.10/dist-packages (from keras->cimcb) (1.4.0)\n",
            "Requirement already satisfied: rich in /usr/local/lib/python3.10/dist-packages (from keras->cimcb) (13.9.4)\n",
            "Requirement already satisfied: namex in /usr/local/lib/python3.10/dist-packages (from keras->cimcb) (0.0.8)\n",
            "Requirement already satisfied: h5py in /usr/local/lib/python3.10/dist-packages (from keras->cimcb) (3.12.1)\n",
            "Requirement already satisfied: optree in /usr/local/lib/python3.10/dist-packages (from keras->cimcb) (0.13.1)\n",
            "Requirement already satisfied: ml-dtypes in /usr/local/lib/python3.10/dist-packages (from keras->cimcb) (0.4.1)\n",
            "Requirement already satisfied: python-dateutil>=2.8.2 in /usr/local/lib/python3.10/dist-packages (from pandas->cimcb) (2.8.2)\n",
            "Requirement already satisfied: pytz>=2020.1 in /usr/local/lib/python3.10/dist-packages (from pandas->cimcb) (2024.2)\n",
            "Requirement already satisfied: tzdata>=2022.7 in /usr/local/lib/python3.10/dist-packages (from pandas->cimcb) (2024.2)\n",
            "Requirement already satisfied: threadpoolctl>=3.1.0 in /usr/local/lib/python3.10/dist-packages (from scikit-learn->cimcb) (3.5.0)\n",
            "Requirement already satisfied: patsy>=0.5.6 in /usr/local/lib/python3.10/dist-packages (from statsmodels->cimcb) (1.0.1)\n",
            "Requirement already satisfied: astunparse>=1.6.0 in /usr/local/lib/python3.10/dist-packages (from tensorflow->cimcb) (1.6.3)\n",
            "Requirement already satisfied: flatbuffers>=24.3.25 in /usr/local/lib/python3.10/dist-packages (from tensorflow->cimcb) (24.3.25)\n",
            "Requirement already satisfied: gast!=0.5.0,!=0.5.1,!=0.5.2,>=0.2.1 in /usr/local/lib/python3.10/dist-packages (from tensorflow->cimcb) (0.6.0)\n",
            "Requirement already satisfied: google-pasta>=0.1.1 in /usr/local/lib/python3.10/dist-packages (from tensorflow->cimcb) (0.2.0)\n",
            "Requirement already satisfied: libclang>=13.0.0 in /usr/local/lib/python3.10/dist-packages (from tensorflow->cimcb) (18.1.1)\n",
            "Requirement already satisfied: opt-einsum>=2.3.2 in /usr/local/lib/python3.10/dist-packages (from tensorflow->cimcb) (3.4.0)\n",
            "Requirement already satisfied: protobuf!=4.21.0,!=4.21.1,!=4.21.2,!=4.21.3,!=4.21.4,!=4.21.5,<5.0.0dev,>=3.20.3 in /usr/local/lib/python3.10/dist-packages (from tensorflow->cimcb) (4.25.5)\n",
            "Requirement already satisfied: requests<3,>=2.21.0 in /usr/local/lib/python3.10/dist-packages (from tensorflow->cimcb) (2.32.3)\n",
            "Requirement already satisfied: setuptools in /usr/local/lib/python3.10/dist-packages (from tensorflow->cimcb) (75.1.0)\n",
            "Requirement already satisfied: six>=1.12.0 in /usr/local/lib/python3.10/dist-packages (from tensorflow->cimcb) (1.16.0)\n",
            "Requirement already satisfied: termcolor>=1.1.0 in /usr/local/lib/python3.10/dist-packages (from tensorflow->cimcb) (2.5.0)\n",
            "Requirement already satisfied: wrapt>=1.11.0 in /usr/local/lib/python3.10/dist-packages (from tensorflow->cimcb) (1.16.0)\n",
            "Requirement already satisfied: grpcio<2.0,>=1.24.3 in /usr/local/lib/python3.10/dist-packages (from tensorflow->cimcb) (1.68.0)\n",
            "Requirement already satisfied: tensorboard<2.18,>=2.17 in /usr/local/lib/python3.10/dist-packages (from tensorflow->cimcb) (2.17.1)\n",
            "Requirement already satisfied: tensorflow-io-gcs-filesystem>=0.23.1 in /usr/local/lib/python3.10/dist-packages (from tensorflow->cimcb) (0.37.1)\n",
            "Requirement already satisfied: wheel<1.0,>=0.23.0 in /usr/local/lib/python3.10/dist-packages (from astunparse>=1.6.0->tensorflow->cimcb) (0.45.0)\n",
            "Requirement already satisfied: MarkupSafe>=2.0 in /usr/local/lib/python3.10/dist-packages (from Jinja2>=2.9->bokeh>=1.0.0->cimcb) (3.0.2)\n",
            "Requirement already satisfied: charset-normalizer<4,>=2 in /usr/local/lib/python3.10/dist-packages (from requests<3,>=2.21.0->tensorflow->cimcb) (3.4.0)\n",
            "Requirement already satisfied: idna<4,>=2.5 in /usr/local/lib/python3.10/dist-packages (from requests<3,>=2.21.0->tensorflow->cimcb) (3.10)\n",
            "Requirement already satisfied: urllib3<3,>=1.21.1 in /usr/local/lib/python3.10/dist-packages (from requests<3,>=2.21.0->tensorflow->cimcb) (2.2.3)\n",
            "Requirement already satisfied: certifi>=2017.4.17 in /usr/local/lib/python3.10/dist-packages (from requests<3,>=2.21.0->tensorflow->cimcb) (2024.8.30)\n",
            "Requirement already satisfied: markdown>=2.6.8 in /usr/local/lib/python3.10/dist-packages (from tensorboard<2.18,>=2.17->tensorflow->cimcb) (3.7)\n",
            "Requirement already satisfied: tensorboard-data-server<0.8.0,>=0.7.0 in /usr/local/lib/python3.10/dist-packages (from tensorboard<2.18,>=2.17->tensorflow->cimcb) (0.7.2)\n",
            "Requirement already satisfied: werkzeug>=1.0.1 in /usr/local/lib/python3.10/dist-packages (from tensorboard<2.18,>=2.17->tensorflow->cimcb) (3.1.3)\n",
            "Requirement already satisfied: markdown-it-py>=2.2.0 in /usr/local/lib/python3.10/dist-packages (from rich->keras->cimcb) (3.0.0)\n",
            "Requirement already satisfied: pygments<3.0.0,>=2.13.0 in /usr/local/lib/python3.10/dist-packages (from rich->keras->cimcb) (2.18.0)\n",
            "Requirement already satisfied: mdurl~=0.1 in /usr/local/lib/python3.10/dist-packages (from markdown-it-py>=2.2.0->rich->keras->cimcb) (0.1.2)\n"
          ]
        }
      ]
    },
    {
      "cell_type": "code",
      "source": [
        "import numpy as np\n",
        "import pandas as pd\n",
        "import cimcb as cb\n",
        "from sklearn.model_selection import train_test_split\n",
        "\n",
        "print('All packages successfully loaded')"
      ],
      "metadata": {
        "colab": {
          "base_uri": "https://localhost:8080/"
        },
        "id": "_iNOXG3jzJ_z",
        "outputId": "47c9dfde-9976-44e6-f4d4-1b779568a0e6"
      },
      "execution_count": 7,
      "outputs": [
        {
          "output_type": "stream",
          "name": "stdout",
          "text": [
            "All packages successfully loaded\n"
          ]
        }
      ]
    },
    {
      "cell_type": "markdown",
      "source": [
        "># **Load Data & Peak Sheet**   ❗\n",
        "\n",
        "> **The data used was MTBLS90**\n"
      ],
      "metadata": {
        "id": "wD2qXbwGKGl6"
      }
    },
    {
      "cell_type": "code",
      "source": [
        "# prompt: home = 'data/'\n",
        "# file = 'MTBLS90.xlsx'\n",
        "# DataTable,PeakTable = cb.utils.load_dataXL(home + file, DataSheet='Data', PeakSheet='Peak')     tengo este codigo pero en ves de llamar mi data en local lo quiero hacer en drive, me ayudas?\n",
        "\n",
        "from google.colab import drive\n",
        "drive.mount('/content/drive')"
      ],
      "metadata": {
        "colab": {
          "base_uri": "https://localhost:8080/"
        },
        "collapsed": true,
        "id": "ekSa1Ken0piD",
        "outputId": "bb39b7b6-a764-445f-f44e-83065bb9121b"
      },
      "execution_count": 8,
      "outputs": [
        {
          "output_type": "stream",
          "name": "stdout",
          "text": [
            "Mounted at /content/drive\n"
          ]
        }
      ]
    },
    {
      "source": [
        "home = '/content/drive/MyDrive/Chambitas Moi'\n",
        "file = 'ComparisonBinaryML/MTBLS90.xlsx' # Cambio: Se eliminó la ruta redundante de 'file'\n",
        "DataTable, PeakTable = cb.utils.load_dataXL(home + '/' + file, DataSheet='Data', PeakSheet='Peak') # Cambio: Se cambió '+' a '/' para una concatenación de ruta adecuada"
      ],
      "cell_type": "code",
      "metadata": {
        "colab": {
          "base_uri": "https://localhost:8080/"
        },
        "id": "stA5c2pq3e9E",
        "outputId": "a5518273-5f51-4ec8-9a0d-8b1578e01d09"
      },
      "execution_count": 16,
      "outputs": [
        {
          "output_type": "stream",
          "name": "stdout",
          "text": [
            "Loadings PeakFile: Peak\n"
          ]
        },
        {
          "output_type": "stream",
          "name": "stderr",
          "text": [
            "/usr/local/lib/python3.10/dist-packages/openpyxl/worksheet/_reader.py:329: UserWarning: Unknown extension is not supported and will be removed\n",
            "  warn(msg)\n"
          ]
        },
        {
          "output_type": "stream",
          "name": "stdout",
          "text": [
            "Loadings DataFile: Data\n",
            "Data Table & Peak Table is suitable.\n",
            "TOTAL SAMPLES: 968 TOTAL PEAKS: 189\n",
            "Done!\n"
          ]
        },
        {
          "output_type": "stream",
          "name": "stderr",
          "text": [
            "/usr/local/lib/python3.10/dist-packages/openpyxl/worksheet/_reader.py:329: UserWarning: Unknown extension is not supported and will be removed\n",
            "  warn(msg)\n"
          ]
        }
      ]
    },
    {
      "cell_type": "markdown",
      "source": [
        "># **\"The damn *ANN LIN SING model*, first practice.\" 😅**"
      ],
      "metadata": {
        "id": "5zsZFgmxLrBq"
      }
    },
    {
      "cell_type": "markdown",
      "source": [
        "># **Extract X & Y** ⏬"
      ],
      "metadata": {
        "id": "PcWfwi0_KS7y"
      }
    },
    {
      "cell_type": "code",
      "source": [
        "# Extract PeakList\n",
        "PeakList = PeakTable['Name']\n",
        "\n",
        "# Select Subset of Data\n",
        "DataTable2 = DataTable[(DataTable.Class == 1) | (DataTable.Class == 0)]\n",
        "\n",
        "# Create a Binary Y Vector\n",
        "Outcomes = DataTable2['Class']\n",
        "Y = Outcomes.values\n",
        "\n",
        "# Split Data into Train (2/3) and Test (1/3)\n",
        "DataTrain, DataTest, YTrain, YTest = train_test_split(DataTable2, Y, test_size=1/3, stratify=Y, random_state=8)\n",
        "\n",
        "# Extract Train Data\n",
        "XTrain = DataTrain[PeakList]\n",
        "XTrainLog = np.log(XTrain)\n",
        "XTrainScale, mu, sigma = cb.utils.scale(XTrainLog, method='auto', return_mu_sigma=True)\n",
        "XTrainKnn = cb.utils.knnimpute(XTrainScale, k=3)\n",
        "\n",
        "# Extract Test Data\n",
        "XTest = DataTest[PeakList]\n",
        "XTestLog = np.log(XTest)\n",
        "XTestScale = cb.utils.scale(XTestLog, method='auto', mu=mu, sigma=sigma)\n",
        "XTestKnn = cb.utils.knnimpute(XTestScale, k=3)"
      ],
      "metadata": {
        "id": "LBhX5KMqJgwb"
      },
      "execution_count": null,
      "outputs": []
    },
    {
      "cell_type": "markdown",
      "source": [
        "># **Hyperparameters Optimisation** 🙏"
      ],
      "metadata": {
        "id": "GTeQL0y6Ke0y"
      }
    },
    {
      "cell_type": "code",
      "source": [
        "# Parameter Dictionary\n",
        "lr = [0.0001,0.0005,0.001,0.005,0.01,0.05,0.1,1]\n",
        "neurons = [2, 3, 4, 5, 6]\n",
        "\n",
        "param_dict = dict(learning_rate=lr,\n",
        "                  n_neurons=neurons,\n",
        "                  epochs=1000,\n",
        "                  momentum=0.5,\n",
        "                  decay=0,\n",
        "                  loss='binary_crossentropy')\n",
        "\n",
        "\n",
        "# Initialise\n",
        "cv = cb.cross_val.KFold(model=cb.model.NN_LinearSigmoid,\n",
        "                        X=XTrainKnn,\n",
        "                        Y=YTrain,\n",
        "                        param_dict=param_dict,\n",
        "                        folds=5,\n",
        "                        n_mc=10)\n",
        "\n",
        "\n",
        "# Run and Plot\n",
        "cv.run()\n",
        "cv.plot(metric='auc', color_beta=[5,5,5])\n",
        "cv.plot(metric='r2q2', color_beta=[5,5,5])"
      ],
      "metadata": {
        "id": "Qp68AnwfJ4vf"
      },
      "execution_count": null,
      "outputs": []
    },
    {
      "cell_type": "code",
      "source": [
        "# Parameter Dictionary\n",
        "lr = [0.001,0.002,0.003,0.004,0.005,0.006,0.007,0.008,0.009,0.01]\n",
        "\n",
        "param_dict = dict(learning_rate=lr,\n",
        "                  n_neurons=3,\n",
        "                  epochs=1000,\n",
        "                  momentum=0.5,\n",
        "                  decay=0,\n",
        "                  loss='binary_crossentropy')\n",
        "\n",
        "# Initialise\n",
        "cv = cb.cross_val.KFold(model=cb.model.NN_LinearSigmoid,\n",
        "                        X=XTrainKnn,\n",
        "                        Y=YTrain,\n",
        "                        param_dict=param_dict,\n",
        "                        folds=5,\n",
        "                        n_mc=10)\n",
        "\n",
        "# Run and Plot\n",
        "cv.run()\n",
        "cv.plot(metric='auc')\n",
        "cv.plot(metric='r2q2')"
      ],
      "metadata": {
        "id": "515p8MbvJ54_"
      },
      "execution_count": null,
      "outputs": []
    },
    {
      "cell_type": "markdown",
      "source": [
        "># **Build Model & Evaluate** 😋"
      ],
      "metadata": {
        "id": "_bqXpSXvKyBh"
      }
    },
    {
      "cell_type": "code",
      "source": [
        "# Build Model\n",
        "model = cb.model.NN_LinearSigmoid(learning_rate=0.003,\n",
        "                                  n_neurons=3,\n",
        "                                  epochs=1000,\n",
        "                                  momentum=0.5,\n",
        "                                  decay=0,\n",
        "                                  loss='binary_crossentropy')\n",
        "YPredTrain = model.train(XTrainKnn, YTrain)\n",
        "YPredTest = model.test(XTestKnn)\n",
        "\n",
        "# Put YTrain and YPredTrain in a List\n",
        "EvalTrain = [YTrain, YPredTrain]\n",
        "\n",
        "# Put YTest and YPrestTest in a List\n",
        "EvalTest = [YTest, YPredTest]\n",
        "\n",
        "# Evaluate Model (include Test Dataset)\n",
        "model.evaluate(testset=EvalTest)"
      ],
      "metadata": {
        "id": "xf7vYYIJJ76K"
      },
      "execution_count": null,
      "outputs": []
    },
    {
      "cell_type": "markdown",
      "source": [
        "># **Bootstrap Evaluation**  ✅"
      ],
      "metadata": {
        "id": "z7auknlVLENb"
      }
    },
    {
      "cell_type": "code",
      "source": [
        "# Extract X Data\n",
        "XBoot = DataTable2[PeakList]\n",
        "XBootLog = np.log(XBoot)\n",
        "XBootScale = cb.utils.scale(XBootLog, method='auto')\n",
        "XBootKnn = cb.utils.knnimpute(XBootScale, k=3)\n",
        "YPredBoot = model.train(XBootKnn, Y)\n",
        "\n",
        "# Build Boostrap Models\n",
        "bootmodel = cb.bootstrap.Per(model, bootnum=100)\n",
        "bootmodel.run()\n",
        "\n",
        "# Boostrap Evaluate Model (include Test Dataset)\n",
        "bootmodel.evaluate(trainset=EvalTrain, testset=EvalTest)"
      ],
      "metadata": {
        "id": "hKncYpqUJ96y"
      },
      "execution_count": null,
      "outputs": []
    },
    {
      "cell_type": "markdown",
      "source": [
        "># **Eh, this part doesn’t even matter.** 😏"
      ],
      "metadata": {
        "id": "A7i-J22WLI3E"
      }
    },
    {
      "cell_type": "code",
      "source": [
        "home = 'results/'\n",
        "file = 'ANNLinSig_MTBLS90.xlsx'\n",
        "\n",
        "bootmodel.save_results(home + file)"
      ],
      "metadata": {
        "id": "2NR0KKAxJ_ug"
      },
      "execution_count": null,
      "outputs": []
    }
  ]
}