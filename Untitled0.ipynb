{
  "nbformat": 4,
  "nbformat_minor": 0,
  "metadata": {
    "colab": {
      "provenance": [],
      "authorship_tag": "ABX9TyMkM4aCJaGMLVRjxiBJdU3c",
      "include_colab_link": true
    },
    "kernelspec": {
      "name": "python3",
      "display_name": "Python 3"
    },
    "language_info": {
      "name": "python"
    }
  },
  "cells": [
    {
      "cell_type": "markdown",
      "metadata": {
        "id": "view-in-github",
        "colab_type": "text"
      },
      "source": [
        "<a href=\"https://colab.research.google.com/github/ChriRRojas/Biomedical-3/blob/main/Untitled0.ipynb\" target=\"_parent\"><img src=\"https://colab.research.google.com/assets/colab-badge.svg\" alt=\"Open In Colab\"/></a>"
      ]
    },
    {
      "cell_type": "code",
      "execution_count": null,
      "metadata": {
        "id": "irKG_6ce4iuj"
      },
      "outputs": [],
      "source": [
        "from sklearn.linear_model import LinearRegression\n",
        "import numpy as np\n",
        "\n",
        "# Transformar los datos\n",
        "X = np.array(años).reshape(-1, 1)  # Año como variable independiente\n",
        "y = np.array(esperanza_vida)  # Esperanza de vida como dependiente\n",
        "\n",
        "# Ajustar el modelo\n",
        "modelo = LinearRegression()\n",
        "modelo.fit(X, y)\n",
        "\n",
        "# Predecir la esperanza de vida en el año 2010\n",
        "prediccion_2010 = modelo.predict([[2010]])\n",
        "print(f'La esperanza de vida predicha para el año 2010 es: {prediccion_2010[0]:.2f}')\n"
      ]
    },
    {
      "cell_type": "markdown",
      "source": [
        "Inciso 22 y 27"
      ],
      "metadata": {
        "id": "qTAgd6dN7ZZz"
      }
    },
    {
      "cell_type": "code",
      "source": [
        "python\n",
        "Mostrar siempre los detalles\n",
        "\n",
        "Copiar código\n",
        "import numpy as np\n",
        "import matplotlib.pyplot as plt\n",
        "\n",
        "# Gráfica del ejercicio 22: Costo en función de las tostadoras producidas\n",
        "# Datos proporcionados:\n",
        "# 1000 tostadoras => $9000\n",
        "# 1500 tostadoras => $12000\n",
        "\n",
        "# Pendiente (m) = (12000 - 9000) / (1500 - 1000)\n",
        "pendiente_22 = (12000 - 9000) / (1500 - 1000)\n",
        "intercepto_22 = 9000 - pendiente_22 * 1000  # Calculamos el intercepto\n",
        "\n",
        "# Función del costo en función de la cantidad de tostadoras (x)\n",
        "def costo(x):\n",
        "    return pendiente_22 * x + intercepto_22\n",
        "\n",
        "# Valores para graficar\n",
        "x_vals_22 = np.linspace(500, 2000, 100)\n",
        "y_vals_22 = costo(x_vals_22)\n",
        "\n",
        "# Gráfica del ejercicio 22\n",
        "plt.figure(figsize=(8, 6))\n",
        "plt.plot(x_vals_22, y_vals_22, label=f'C(x) = {pendiente_22:.2f}x + {intercepto_22:.2f}', color='blue')\n",
        "plt.scatter([1000, 1500], [9000, 12000], color='red', zorder=5, label='Datos proporcionados')\n",
        "plt.title('Costo de producción en función del número de tostadoras producidas')\n",
        "plt.xlabel('Número de tostadoras producidas')\n",
        "plt.ylabel('Costo (dólares)')\n",
        "plt.grid(True)\n",
        "plt.legend()\n",
        "plt.show()\n",
        "\n",
        "# Gráfica del ejercicio 27: Población en función del tiempo\n",
        "# P(t) = 100000 / (100 + 900e^(-t))\n",
        "\n",
        "# Definir la función de población P(t)\n",
        "def poblacion(t):\n",
        "    return 100000 / (100 + 900 * np.exp(-t))\n",
        "\n",
        "# Valores para graficar\n",
        "t_vals_27 = np.linspace(0, 10, 100)\n",
        "P_vals_27 = poblacion(t_vals_27)\n",
        "\n",
        "# Gráfica del ejercicio 27\n",
        "plt.figure(figsize=(8, 6))\n",
        "plt.plot(t_vals_27, P_vals_27, label='P(t) = 100000 / (100 + 900e^(-t))', color='green')\n",
        "plt.title('Población en función del tiempo')\n",
        "plt.xlabel('Tiempo (años)')\n",
        "plt.ylabel('Población')\n",
        "plt.grid(True)\n",
        "plt.legend()\n",
        "plt.show()"
      ],
      "metadata": {
        "colab": {
          "base_uri": "https://localhost:8080/",
          "height": 106
        },
        "id": "I-HkABG77Z4A",
        "outputId": "6b5176d2-50ae-48b1-bfa1-66174aa69717"
      },
      "execution_count": null,
      "outputs": [
        {
          "output_type": "error",
          "ename": "SyntaxError",
          "evalue": "invalid syntax (<ipython-input-3-8a03a6043489>, line 2)",
          "traceback": [
            "\u001b[0;36m  File \u001b[0;32m\"<ipython-input-3-8a03a6043489>\"\u001b[0;36m, line \u001b[0;32m2\u001b[0m\n\u001b[0;31m    Mostrar siempre los detalles\u001b[0m\n\u001b[0m            ^\u001b[0m\n\u001b[0;31mSyntaxError\u001b[0m\u001b[0;31m:\u001b[0m invalid syntax\n"
          ]
        }
      ]
    }
  ]
}