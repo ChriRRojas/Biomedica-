{
  "nbformat": 4,
  "nbformat_minor": 0,
  "metadata": {
    "colab": {
      "provenance": []
    },
    "kernelspec": {
      "name": "python3",
      "display_name": "Python 3"
    },
    "language_info": {
      "name": "python"
    }
  },
  "cells": [
    {
      "cell_type": "markdown",
      "source": [
        "# <font color=\"green\"> Actividad 2 | <font color=\"black\">Máximo común divisor (MCD) en Python.\n",
        "\n",
        "**Programación de sistemas embebidos, INBI 4er.**\n",
        "\n",
        "*Chrsitofer Martin Rojas Ruiz* 🥥\n",
        "\n",
        "\n",
        "\n",
        "---\n",
        "\n"
      ],
      "metadata": {
        "id": "qb_cFK147bLy"
      }
    },
    {
      "cell_type": "markdown",
      "source": [
        "> Esta actividad tiene el objetivo de realizar un codigo para encontrar el máximo común divisor de un par de números, ambos diferentes de cero (0), siguiendo la serie de pasos propuesta en la presentacion correspondiente a esta actividad.\n",
        "\n",
        "\n",
        "---\n",
        "\n"
      ],
      "metadata": {
        "id": "llXwEThd_cE-"
      }
    },
    {
      "cell_type": "markdown",
      "source": [
        "## Concepto de MCD\n",
        "\n",
        "El Máximo Común Divisor (MCD) de dos números \\(x\\) e \\(y\\) es el mayor número capaz de dividir a ambos de forma exacta.\n",
        "\n",
        "### Ejemplo\n",
        "\n",
        "Los divisores de 300 y de 33,880 son los siguientes:\n",
        "\n",
        "- **Divisores de 300**:\n",
        "  \\[1, 2, 3, 4, 5, 6, 10, 12, 15, 20, 25, 30, 50, 60, 75, 100, 150, 300.\\]\n",
        "\n",
        "- **Divisores de 33,880**:\n",
        "  \\[1, 2, 4, 5, 7, 8, 10, 11, 14, 20, 22, 28, 35, 40, 44, 55, 56, 70, 77, 88, 110, 121, 140, 154, 220, 242, 280, 308, \\dots\\]\n",
        "\n",
        "Como se puede comprobar, viendo todos los divisores, el número *20*  es el mayor de todos los divisores comunes de ambos.\n",
        "\n",
        "\n",
        "---\n",
        "\n",
        "\n"
      ],
      "metadata": {
        "id": "3yz6_pzV8tB1"
      }
    },
    {
      "cell_type": "markdown",
      "source": [
        "### Conceptos claves para la creacion del codigo:\n",
        "**¿Qué es un algoritmo?**\n",
        "\n",
        ">\"Es la secuencia de instrucciones no ambiguas para resolver un problema, i.e., para\n",
        "obtener un valor de salida para cualquier valor de entrada legítimo en un periodo finito de\n",
        "tiempo\".\n",
        "\n",
        ">\"Instrucciones\" se refiere a que alguien será capaz de entender y seguir esos pasos.\n",
        "\n",
        ">Un algoritmo debe contar con las siguientes propiedades:\n",
        "- La no ambigüedad de los pasos no debe ser comprometida\n",
        "- El rango de valores de entrada debe ser especificado cuidadosamente\n",
        "- El mismo algoritmo puede representarse de diversas formas\n",
        "- Puede haber más de un algoritmo para resolver el mismo problema\n",
        "- Algoritmos para el mismo problema pueden basarse en ideas diferentes y resolverlo a diferentes velocidades\n"
      ],
      "metadata": {
        "id": "5LnSSYSZFu_7"
      }
    },
    {
      "cell_type": "markdown",
      "source": [
        "\n",
        "\n",
        "---\n",
        "\n",
        "\n",
        "## Ejemplos de creacion de calculadora MCD en python"
      ],
      "metadata": {
        "id": "yKNjHOMj9zfl"
      }
    },
    {
      "cell_type": "markdown",
      "source": [
        "> La libreria que usaremos para esta activiadad es **Math**.\n",
        "- **Math** proporciona acceso a las funciones matemáticas definidas en el estándar de C, puedes encontar mas detalles del uso de **Math** en: https://docs.python.org/es/3.10/library/math.html"
      ],
      "metadata": {
        "id": "U8dkFpjNEVtE"
      }
    },
    {
      "cell_type": "markdown",
      "source": [
        "> La presentacion propone 2 formas de realizar el algoritmo, por algoritmo \"Euclidiano\" o \"Entero consecutivo\".\n",
        ">\n",
        ">- **Algoritmo euclidiano.**\n",
        ">\n",
        ">*El algoritmo euclidiano es un método eficiente para calcular el máximo común divisor (MCD) de dos números enteros basado en el principio de que el MCD de dos números no cambia si el mayor de ellos se reemplaza por su diferencia con el menor. Una variante más común utiliza el residuo de la división en lugar de la diferencia.*\n",
        ">\n",
        "\n",
        "```\n",
        "# 1. Ingresar dos números enteros, A y B.\n",
        "2. Mientras B ≠ 0:\n",
        "   - Calcular el residuo R de A dividido por B.\n",
        "   - Asignar A ← B y B ← R.\n",
        "3. El MCD es el valor actual de A.\n",
        "\n",
        "```\n",
        "\n",
        "\n",
        ">- **Algoritmo de entero consecutivo.**\n",
        "\n",
        "> *En informática, el algoritmo de entero consecutivo se refiere a un método para calcular el máximo común divisor (MCD) de dos números enteros utilizando una estrategia iterativa. Este algoritmo evalúa consecutivamente los números enteros menores al menor de los dos números dados para encontrar el mayor entero que divide a ambos sin dejar residuo.*\n",
        "\n",
        "\n",
        "```\n",
        "1. Ingresar dos números enteros, A y B.\n",
        "2. Establecer el menor número como límite inicial.\n",
        "3. Iterar desde el límite hacia abajo:\n",
        "   - Si el número actual divide a A y B sin residuo, es el MCD.\n",
        "4. Terminar cuando se encuentre el MCD.\n",
        "\n",
        "```\n",
        "\n",
        "\n"
      ],
      "metadata": {
        "id": "fnQyhem5T77g"
      }
    },
    {
      "cell_type": "markdown",
      "source": [
        "### **Creacion de codigo**\n",
        "- Creada por mi solo por mi y de verdad que solo yo la hice, lo juro 🙌"
      ],
      "metadata": {
        "id": "LEj2e2Mbc2U-"
      }
    },
    {
      "cell_type": "markdown",
      "source": [
        "El siguienmte codigo lo realice en base a una demostracion que se explica en la pagina de Python para el uso de la libreria **MATH** \"https://docs.python.org/es/3.10/library/math.html\". Este codigo funciona al descargar la libreria MATH y importar *GCD* (Greatest common divisor), agregas tus variables que en este caso son X & Y, que representan los 2 numeros que utilizaremos para sacar el MCD(maximo Comun Divisor). AL final imprimimos los valores del MCD con la linea:\n",
        "\n",
        "\n",
        "```\n",
        "print(\"El máximo común divisor entre {} y {} es: \".format(x,y))  \n",
        "print(gcd(x,y))\n",
        "```\n",
        "Las desventajas de este codigo es que es muy simple jaja y no interactua con el usuario (aunque podrias agregarle esa opcion).\n",
        "\n"
      ],
      "metadata": {
        "id": "Kzx7-xmie9NZ"
      }
    },
    {
      "cell_type": "code",
      "source": [
        "from math import gcd\n",
        "x=42\n",
        "y=84\n",
        "print(\"El máximo común divisor entre {} y {} es: \".format(x,y))\n",
        "print(gcd(x,y))"
      ],
      "metadata": {
        "colab": {
          "base_uri": "https://localhost:8080/"
        },
        "id": "UWb1GpnSDZAT",
        "outputId": "3a596f82-a6ed-4fd1-c8f8-47a8a56d16bc"
      },
      "execution_count": 13,
      "outputs": [
        {
          "output_type": "stream",
          "name": "stdout",
          "text": [
            "El máximo común divisor entre 42 y 84 es: \n",
            "42\n"
          ]
        }
      ]
    },
    {
      "cell_type": "markdown",
      "source": [
        "  Ahora si viene el codigo bueno. Para este codigo seguimos la logica del Algoritmo Euclidiano antes mencionada. La tercera linea define como variable \"mcd\" que incluye a (a,b) estas siendo los numeros que escogeremos para sacar el MCD. ¿El \"if\" y \"else\" para que los utilizamos?\n",
        "  - El `if (b == 0)` asegura que la función sabe cuándo detenerse y retornar el MCD encontrado.\n",
        "  - El `else: return gcd(b, a % b)` asegura que la función siga reduciendo el problema, aplicando la lógica del Algoritmo Euclidiano.\n",
        "\n",
        "  Ahora para interactuar con el usario utilizaremos la funcion `input` que le pide al usuario que introdusca dos numeros enteros y la funcion `int ` convierte la entrada del usuario (que es una cadena de texto) en un número entero.`a y b`Estos representan los números ingresados por el usuario para poner un ejemplo, si el usuario ingresa 48 para a y 18 para b, estos valores se almacenarán en las variables a y b.\n",
        "\n",
        "  Para finalizar, `mcd(a, b)` llama a la función mcd definida anteriormente y\n",
        "  el resultado del MCD se almacena en la variable MCD. `print(\"MCD no es jeje: \", MCD)` es usado para imprimir el resultado de la funcion anterior o mejor dicho el Maximo Comun Divisor.\n"
      ],
      "metadata": {
        "id": "gzxFqGPKmAVB"
      }
    },
    {
      "cell_type": "code",
      "source": [
        "import math\n",
        "\n",
        "def mcd(a,b):\n",
        "    if(b==0):\n",
        "        return a\n",
        "    else:\n",
        "        return mcd(b,a%b)\n",
        "a=int(input(\"Ponte el primer number carnal:\"))\n",
        "b=int(input(\"Ahora el segundo campeon:\"))\n",
        "MCD=mcd(a,b)\n",
        "print(\"MCD no es jeje: \",MCD)"
      ],
      "metadata": {
        "colab": {
          "base_uri": "https://localhost:8080/"
        },
        "id": "JsmDQzL6lPlK",
        "outputId": "2cd68c54-dadc-4955-e012-f0d8efa99ef9"
      },
      "execution_count": 21,
      "outputs": [
        {
          "output_type": "stream",
          "name": "stdout",
          "text": [
            "Ponte el primer number carnal:30\n",
            "Ahora el segundo campeon:15\n",
            "MCD no es jeje:  15\n"
          ]
        }
      ]
    },
    {
      "cell_type": "markdown",
      "source": [
        "---\n",
        "\n",
        "### Ejemplo de Ejecución\n",
        "\n",
        "Si ingresas:  \n",
        "- **Primer número**: 48  \n",
        "- **Segundo número**: 18  \n",
        "\n",
        "El cálculo será:\n",
        "\n",
        "```plaintext\n",
        "gcd(48, 18) → gcd(18, 48 % 18) → gcd(18, 12)  \n",
        "gcd(18, 12) → gcd(12, 18 % 12) → gcd(12, 6)  \n",
        "gcd(12, 6) → gcd(6, 12 % 6) → gcd(6, 0)  \n",
        "Resultado: 6  \n"
      ],
      "metadata": {
        "id": "2KD43TUOp7tf"
      }
    },
    {
      "cell_type": "markdown",
      "source": [
        "## Referencias.\n",
        "- YouTube. (2020). *Python for Data Science | Full Course* [Video]. YouTube. https://www.youtube.com/watch?v=1PW1L-ie92E\n",
        "- Google Drive. (2020). *Archivo de ejemplo* [Archivo]. Google Drive. https://drive.google.com/file/d/1pr60FhmHnupoTPmRlGAL37MfLI2KFuLT/view\n",
        "- Python Software Foundation. (2020). *math — Matemáticas básicas* (v. 3.10). Python.org. https://docs.python.org/es/3.10/library/math.html\n",
        "\n",
        "PD: Por lo unico que use el chat, fue para poner el titulo de inicio de color verde. 🙅"
      ],
      "metadata": {
        "id": "Ia0paFb4t561"
      }
    }
  ]
}